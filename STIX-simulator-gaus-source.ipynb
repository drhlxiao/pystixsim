{
 "cells": [
  {
   "cell_type": "code",
   "execution_count": 1,
   "metadata": {},
   "outputs": [],
   "source": [
    "#STIX simulator"
   ]
  },
  {
   "cell_type": "code",
   "execution_count": 2,
   "metadata": {},
   "outputs": [],
   "source": [
    "import sys\n",
    "sys.path.append('.')\n",
    "import glob\n",
    "import numpy as np\n",
    "import math\n",
    "from core.grid_parameters import NOMINAL as ngd\n",
    "\n",
    "\n",
    "import matplotlib.pyplot as plt\n",
    "\n",
    "\n",
    "from ipywidgets import interact, interact_manual, widgets\n",
    "\n",
    "\n",
    "from IPython.display import clear_output\n",
    "\n",
    "from core.stix_imager import StixImager\n",
    "from core import stix_grid as sgd\n",
    "\n",
    "\n",
    "%matplotlib notebook"
   ]
  },
  {
   "cell_type": "code",
   "execution_count": 3,
   "metadata": {},
   "outputs": [
    {
     "data": {
      "application/javascript": [
       "IPython.OutputArea.prototype._should_scroll = function(lines) {\n",
       "    return false;\n",
       "}\n"
      ],
      "text/plain": [
       "<IPython.core.display.Javascript object>"
      ]
     },
     "metadata": {},
     "output_type": "display_data"
    }
   ],
   "source": [
    "%%javascript\n",
    "IPython.OutputArea.prototype._should_scroll = function(lines) {\n",
    "    return false;\n",
    "}"
   ]
  },
  {
   "cell_type": "code",
   "execution_count": 4,
   "metadata": {},
   "outputs": [],
   "source": [
    "def gaus2d( sun_x=0, sun_y=0, x_radius=30, y_radius=30, sigma=10, rho=0, steps=40, xmin=None, \n",
    "           xmax=None,  ymin=None, ymax=None):\n",
    "    if xmin is None or ymin is None or xmax is None or ymax is None:\n",
    "        xmin=sun_x-x_radius\n",
    "        xmax=sun_x+x_radius\n",
    "        ymin=sun_y-y_radius\n",
    "        ymax=sun_y+y_radius\n",
    "    xx,yy=np.meshgrid(np.linspace(xmin,xmax,steps), np.linspace(ymin,ymax,steps))\n",
    "    u=(xx-sun_x)/sigma\n",
    "    v=(yy-sun_y)/sigma\n",
    "    c=1.-rho*rho\n",
    "    z=u*u-2*rho*u*v+v*v\n",
    "            # Calculating Gaussian array\n",
    "    zz = np.exp(-( z/  2.0 * c ) )\n",
    "    return xx,yy,zz\n",
    "#x,y,z=gaus2d()\n",
    "\n",
    "#plt.pcolormesh(x, y, z)"
   ]
  },
  {
   "cell_type": "code",
   "execution_count": 5,
   "metadata": {},
   "outputs": [],
   "source": [
    "import pickle\n",
    "def create_pattern_lut(det_idx):\n",
    "    pkf = open(f'./data/pattern_lut_{det_idx}.pkl', 'wb')\n",
    "    res=math.asin(ngd[str(det_idx+1)]['FrontPitch']/597.)*180/math.pi\n",
    "    steps=2*int(1./res)\n",
    "    im=StixImager(det_idx)\n",
    "    xx=np.linspace(-1,1,steps)\n",
    "    yy=np.linspace(-1,1,steps)    \n",
    "    results={'res':res*3600,'steps':steps, 'x':xx,'y':yy, 'pattern':{}}\n",
    "    print(steps)\n",
    "    for i in range(steps):\n",
    "        for j in range(steps):\n",
    "            clear_output(wait=True)\n",
    "            x=xx[i]*3600\n",
    "            y=yy[j]*3600\n",
    "            print(f'completed: {100*(i*steps+j)/(steps*steps):.1f}%')\n",
    "          \n",
    "            res=im.create(x, y, 0,0,0,0, compute_pattern=True)\n",
    "            results['pattern'][(i,j)]=res\n",
    "            \n",
    "    pickle.dump(results, pkf)\n",
    "    pkf.close()\n",
    "\n",
    "#create_pattern_lut(25)"
   ]
  },
  {
   "cell_type": "markdown",
   "metadata": {},
   "source": [
    "# Gaussian  shape source simulator"
   ]
  },
  {
   "cell_type": "code",
   "execution_count": 96,
   "metadata": {},
   "outputs": [],
   "source": [
    "def get_amplitudes(pattern):\n",
    "    top=pattern[0:4]\n",
    "    bottom=pattern[4:8]\n",
    "    \n",
    "    return (0.5*(np.max(top)-np.min(top))/(np.mean(top)), 0.5*(np.max(bottom)-np.min(bottom))/(np.mean(bottom)))"
   ]
  },
  {
   "cell_type": "code",
   "execution_count": 103,
   "metadata": {
    "scrolled": false
   },
   "outputs": [],
   "source": [
    "\n",
    "\n",
    "\n",
    "\n",
    "def simulate_gaus(det_idx, sun_x, sun_y, x_radius=30, y_radius=30,sigma=10,rho=0, steps=40\n",
    "            ):\n",
    " \n",
    "    \n",
    "    im=StixImager(det_idx)\n",
    "    \n",
    "    \n",
    "    xx,yy,zz=gaus2d(sun_x, sun_y, x_radius, y_radius, sigma, rho, steps)\n",
    "    x1d=xx.reshape(-1)\n",
    "    y1d=yy.reshape(-1)\n",
    "    z1d=zz.reshape(-1)\n",
    "    pattern=np.zeros(12)\n",
    "    \n",
    "    ns=x1d.size\n",
    "    for i in range(ns):\n",
    "        clear_output(wait=True)\n",
    "        print(f'completed: {100.*i/ns:.1f}%')\n",
    "        x=x1d[i]\n",
    "        y=y1d[i]\n",
    "        if z1d[i]>0:\n",
    "            #print(x,y)\n",
    "            res=im.create(x, y, 0,0,0,0, compute_pattern=True)\n",
    "            pattern+=res['pattern']*z1d[i]\n",
    "    pattern=pattern/np.sum(z1d)\n",
    "    result=get_amplitudes(pattern)\n",
    "    res=im.create(sun_x, sun_y, 0,0,0,0, compute_pattern=True)\n",
    "    fig, ((ax, ax2),(ax3,ax4)) = plt.subplots(2, 2, figsize=(8, 8))\n",
    "    ax.pcolormesh(xx, yy, zz)\n",
    "    im.plot(fig, ax2, ax3)\n",
    "\n",
    "\n",
    "    \n",
    "    #print(pattern)\n",
    "    ax3.plot(range(8),pattern[0:8], label='gaussian source')\n",
    "    ax3.set_title(f'sun_x={sun_x} sun_y={sun_y} x_r={x_radius}, y_r={y_radius}, sigma={sigma} ')\n",
    "    ax3.set_xlabel('Pixel')\n",
    "    ax3.set_xlim(0,8)\n",
    "    ax3.set_ylabel('Open area (mm)')\n",
    "    ax3.legend()\n",
    "    \n",
    "    #result=fit_pattern(pattern)\n",
    "    \n",
    "    print('Pattern, result', result)\n",
    "    #print(result)\n",
    "    x1=np.arange(4)\n",
    "    ax4.plot(x1,pattern[0:4], label='top')\n",
    "    ax4.plot(x1,pattern[4:8], label='bottom')\n",
    "    #x2=np.linspace(0,8,50)\n",
    "    #pt=result['params'][0]\n",
    "    #pb=result['params'][1]\n",
    "    #print(pt)\n",
    "    #y_top, y_bottom=fun_sin(x2, pt[0], pt[1], pt[2], pt[3]),fun_sin(x2, pb[0], pb[1], pb[2], pb[3])\n",
    "    #ax4.plot(x2, y_top, label='top fit')\n",
    "    #ax4.plot(x2, y_bottom, label='bottom fit')\n",
    "    \n",
    "    ax4.set_title(f'modulation: {result[0]:.2f}, {result[1]:0.2f}, sum: {np.sum(pattern[0:8]):0.2f}')\n",
    "    ax4.set_xlabel('Pixel')\n",
    "    ax4.set_ylabel('Open area (mm)')\n",
    "    ax4.legend()\n",
    "    \n",
    "    \n",
    "    \n",
    "    plt.savefig(f'sun_x_{sun_x}_sun_y_{sun_y}_x_r_{x_radius}_y_r_{y_radius}_sigma_{sigma}.svg')\n",
    "    plt.show()\n",
    "\n",
    "\n"
   ]
  },
  {
   "cell_type": "code",
   "execution_count": 106,
   "metadata": {},
   "outputs": [
    {
     "data": {
      "application/vnd.jupyter.widget-view+json": {
       "model_id": "e7d86b6e949d41febf29dfe22f9906ee",
       "version_major": 2,
       "version_minor": 0
      },
      "text/plain": [
       "interactive(children=(IntSlider(value=2, description='det_idx', max=32), IntSlider(value=0, description='sun_x…"
      ]
     },
     "metadata": {},
     "output_type": "display_data"
    },
    {
     "data": {
      "text/plain": [
       "<function __main__.simulate_gaus(det_idx, sun_x, sun_y, x_radius=30, y_radius=30, sigma=10, rho=0, steps=40)>"
      ]
     },
     "execution_count": 106,
     "metadata": {},
     "output_type": "execute_result"
    }
   ],
   "source": [
    "plt.close('all')\n",
    "maxPhase= 0.457628#gd['26']['FrontPitch']\n",
    "interact_manual(simulate_gaus, det_idx=widgets.IntSlider(min=0,max=32,value=2,step=1),\n",
    "         sun_x=widgets.IntSlider(min=-3600,max=3600,value=0, step=1),\n",
    "         sun_y=widgets.IntSlider(min=-3600,max=3600,value=0,step=1),\n",
    "         x_radius=widgets.IntSlider(min=0,max=340,value=100, step=1),\n",
    "         y_radius=widgets.IntSlider(min=0,max=340,value=100,step=1),\n",
    "            sigma=widgets.IntSlider(min=0,max=400,value=50,step=1),\n",
    "                 steps=widgets.IntSlider(min=10,max=100,value=10,step=1)\n",
    "        \n",
    "         \n",
    "        )"
   ]
  },
  {
   "cell_type": "markdown",
   "metadata": {},
   "source": [
    "# Double Gaussian shape source simulator"
   ]
  },
  {
   "cell_type": "code",
   "execution_count": 50,
   "metadata": {},
   "outputs": [
    {
     "data": {
      "application/vnd.jupyter.widget-view+json": {
       "model_id": "b9d714928e12415584b4ebb2aa7bb6a2",
       "version_major": 2,
       "version_minor": 0
      },
      "text/plain": [
       "interactive(children=(IntSlider(value=19, description='det_idx', max=32), IntSlider(value=0, description='sun_…"
      ]
     },
     "metadata": {},
     "output_type": "display_data"
    },
    {
     "data": {
      "text/plain": [
       "<function __main__.simulate_double_gaus(det_idx, sun_x, sun_y, sun_x2, sun_y2, radius1=30, radius2=30, sigma1=10, sigma2=0, steps=40)>"
      ]
     },
     "execution_count": 50,
     "metadata": {},
     "output_type": "execute_result"
    }
   ],
   "source": [
    "\n",
    "\n",
    "plt.close('all')\n",
    "def simulate_double_gaus(det_idx, sun_x, sun_y, sun_x2, sun_y2, \n",
    "                         radius1=30, radius2=30,sigma1=10,sigma2=0, steps=40\n",
    "            ):\n",
    " \n",
    "    \n",
    "    im=StixImager(det_idx)\n",
    "    rho=0\n",
    "    xmin=min([sun_x-radius1, sun_x2-radius2])\n",
    "    xmax=max([sun_x+radius1, sun_x2+radius2])\n",
    "    ymin=min([sun_y-radius1, sun_y2-radius2])\n",
    "    ymax=max([sun_y+radius1, sun_y2+radius2])\n",
    "    xx,yy,zz1=gaus2d(sun_x, sun_y, radius1, radius1, sigma1, rho, steps,xmin, xmax, ymin,ymax)\n",
    "    _,_,zz2=gaus2d(sun_x2, sun_y2, radius2, radius2, sigma2, rho, steps,xmin, xmax,ymin, ymax)\n",
    "    zz=zz1+zz2\n",
    "    x1d=xx.reshape(-1)\n",
    "    y1d=yy.reshape(-1)\n",
    "    z1d=zz.reshape(-1)\n",
    "    pattern=np.zeros(12)\n",
    "    \n",
    "    ns=x1d.size\n",
    "    for i in range(ns):\n",
    "        clear_output(wait=True)\n",
    "        print(f'completed: {50.*i/ns:.1f}%')\n",
    "        x=x1d[i]\n",
    "        y=y1d[i]\n",
    "        if z1d[i]>0:\n",
    "            #print(x,y)\n",
    "            res=im.create(x, y, 0,0,0,0, compute_pattern=True)\n",
    "            pattern+=res['pattern']*z1d[i]\n",
    "    res=im.create(sun_x, sun_y, 0,0,0,0, compute_pattern=True)\n",
    "    fig, ((ax, ax2),(ax3,ax4)) = plt.subplots(2, 2, figsize=(8, 8))\n",
    "    ax.pcolormesh(xx, yy, zz)\n",
    "    im.plot(fig, ax2, ax3)\n",
    "    pattern=pattern/np.sum(z1d)\n",
    "    ax3.plot(range(12),pattern, label='gaus source')\n",
    "    #ax3.set_title(f'sun_x={sun_x} sun_y={sun_y} x_r={x_radius}, y_r={y_radius}, sigma={sigma} ')\n",
    "    ax3.set_xlabel('Pixel')\n",
    "    ax3.set_ylabel('Open area (mm$^2$)')\n",
    "    ax3.legend()\n",
    "    ax4.plot(range(12),pattern, label='gaus source')\n",
    "    #ax4.set_title(f'sun_x={sun_x} sun_y={sun_y} x_r={x_radius}, y_r={y_radius}, sigma={sigma} ')\n",
    "    ax4.set_xlabel('Pixel')\n",
    "    ax4.set_ylabel('Open area (mm)')\n",
    "    ax4.legend()\n",
    "    plt.savefig(f'images/s1_{sun_x}_{sun_y}_s2_{sun_x2}_{sun_y2}_r1_{radius1}_r2_{radius2}_sigma_{sigma1}_{sigma2}.svg')\n",
    "    plt.show()\n",
    "\n",
    "\n",
    "#maxPhase= 0.457628#gd['26']['FrontPitch']\n",
    "interact_manual(simulate_double_gaus, det_idx=widgets.IntSlider(min=0,max=32,value=19,step=1),\n",
    "         sun_x=widgets.IntSlider(min=-3600,max=3600,value=0, step=1),\n",
    "         sun_y=widgets.IntSlider(min=-3600,max=3600,value=0,step=1),\n",
    "                         sun_x2=widgets.IntSlider(min=-3600,max=3600,value=50, step=1),\n",
    "         sun_y2=widgets.IntSlider(min=-3600,max=3600,value=50,step=1),\n",
    "         radius1=widgets.IntSlider(min=0,max=340,value=30, step=1),\n",
    "         radius2=widgets.IntSlider(min=0,max=340,value=30,step=1),\n",
    "            sigma1=widgets.IntSlider(min=0,max=200,value=10,step=1),\n",
    "                sigma2=widgets.IntSlider(min=0,max=200,value=10,step=1),\n",
    "                 steps=widgets.IntSlider(min=10,max=100,value=20,step=1)\n",
    "        \n",
    "         \n",
    "        )"
   ]
  },
  {
   "cell_type": "code",
   "execution_count": 8,
   "metadata": {},
   "outputs": [
    {
     "data": {
      "text/plain": [
       "'7.6.3'"
      ]
     },
     "execution_count": 8,
     "metadata": {},
     "output_type": "execute_result"
    }
   ],
   "source": [
    "import ipywidgets\n",
    "ipywidgets.__version__"
   ]
  },
  {
   "cell_type": "code",
   "execution_count": null,
   "metadata": {},
   "outputs": [],
   "source": []
  }
 ],
 "metadata": {
  "kernelspec": {
   "display_name": "Python 3",
   "language": "python",
   "name": "python3"
  },
  "language_info": {
   "codemirror_mode": {
    "name": "ipython",
    "version": 3
   },
   "file_extension": ".py",
   "mimetype": "text/x-python",
   "name": "python",
   "nbconvert_exporter": "python",
   "pygments_lexer": "ipython3",
   "version": "3.9.7"
  }
 },
 "nbformat": 4,
 "nbformat_minor": 4
}
