{
 "cells": [
  {
   "cell_type": "code",
   "execution_count": 1,
   "metadata": {},
   "outputs": [],
   "source": [
    "#STIX simulator"
   ]
  },
  {
   "cell_type": "code",
   "execution_count": 2,
   "metadata": {},
   "outputs": [],
   "source": [
    "import sys\n",
    "sys.path.append('.')\n",
    "import glob\n",
    "import numpy as np\n",
    "import math\n",
    "from core.grid_parameters import NOMINAL as ngd\n",
    "\n",
    "\n",
    "import matplotlib.pyplot as plt\n",
    "\n",
    "\n",
    "from ipywidgets import interact, interact_manual, widgets\n",
    "\n",
    "\n",
    "from IPython.display import clear_output\n",
    "\n",
    "from core.stix_imager import StixImager\n",
    "from core import stix_grid as sgd\n",
    "\n",
    "\n",
    "%matplotlib notebook"
   ]
  },
  {
   "cell_type": "code",
   "execution_count": 3,
   "metadata": {},
   "outputs": [
    {
     "data": {
      "application/javascript": [
       "IPython.OutputArea.prototype._should_scroll = function(lines) {\n",
       "    return false;\n",
       "}\n"
      ],
      "text/plain": [
       "<IPython.core.display.Javascript object>"
      ]
     },
     "metadata": {},
     "output_type": "display_data"
    }
   ],
   "source": [
    "%%javascript\n",
    "IPython.OutputArea.prototype._should_scroll = function(lines) {\n",
    "    return false;\n",
    "}"
   ]
  },
  {
   "cell_type": "code",
   "execution_count": 4,
   "metadata": {},
   "outputs": [],
   "source": [
    "def gaus2d( sun_x=0, sun_y=0, x_radius=30, y_radius=30, sigma=10, rho=0, steps=40, xmin=None, \n",
    "           xmax=None,  ymin=None, ymax=None):\n",
    "    if xmin is None or ymin is None or xmax is None or ymax is None:\n",
    "        xmin=sun_x-x_radius\n",
    "        xmax=sun_x+x_radius\n",
    "        ymin=sun_y-y_radius\n",
    "        ymax=sun_y+y_radius\n",
    "    xx,yy=np.meshgrid(np.linspace(xmin,xmax,steps), np.linspace(ymin,ymax,steps))\n",
    "    u=(xx-sun_x)/sigma\n",
    "    v=(yy-sun_y)/sigma\n",
    "    c=1.-rho*rho\n",
    "    z=u*u-2*rho*u*v+v*v\n",
    "            # Calculating Gaussian array\n",
    "    zz = np.exp(-( z/  2.0 * c ) )\n",
    "    return xx,yy,zz\n",
    "#x,y,z=gaus2d()\n",
    "\n",
    "#plt.pcolormesh(x, y, z)"
   ]
  },
  {
   "cell_type": "code",
   "execution_count": 9,
   "metadata": {},
   "outputs": [
    {
     "name": "stdout",
     "output_type": "stream",
     "text": [
      "completed: 99.8%\n"
     ]
    },
    {
     "ename": "LinAlgError",
     "evalue": "Last 2 dimensions of the array must be square",
     "output_type": "error",
     "traceback": [
      "\u001b[0;31m---------------------------------------------------------------------------\u001b[0m",
      "\u001b[0;31mLinAlgError\u001b[0m                               Traceback (most recent call last)",
      "\u001b[0;32m<ipython-input-9-035c23879a98>\u001b[0m in \u001b[0;36m<module>\u001b[0;34m\u001b[0m\n\u001b[1;32m     32\u001b[0m \u001b[0;34m\u001b[0m\u001b[0m\n\u001b[1;32m     33\u001b[0m \u001b[0;34m\u001b[0m\u001b[0m\n\u001b[0;32m---> 34\u001b[0;31m \u001b[0mcreate_pattern_lut\u001b[0m\u001b[0;34m(\u001b[0m\u001b[0;34m)\u001b[0m\u001b[0;34m\u001b[0m\u001b[0;34m\u001b[0m\u001b[0m\n\u001b[0m",
      "\u001b[0;32m<ipython-input-9-035c23879a98>\u001b[0m in \u001b[0;36mcreate_pattern_lut\u001b[0;34m()\u001b[0m\n\u001b[1;32m     25\u001b[0m                 \u001b[0mres\u001b[0m\u001b[0;34m=\u001b[0m\u001b[0mim\u001b[0m\u001b[0;34m.\u001b[0m\u001b[0mcreate\u001b[0m\u001b[0;34m(\u001b[0m\u001b[0mx\u001b[0m\u001b[0;34m,\u001b[0m \u001b[0my\u001b[0m\u001b[0;34m,\u001b[0m \u001b[0;36m0\u001b[0m\u001b[0;34m,\u001b[0m\u001b[0;36m0\u001b[0m\u001b[0;34m,\u001b[0m\u001b[0;36m0\u001b[0m\u001b[0;34m,\u001b[0m\u001b[0;36m0\u001b[0m\u001b[0;34m,\u001b[0m \u001b[0mcompute_pattern\u001b[0m\u001b[0;34m=\u001b[0m\u001b[0;32mTrue\u001b[0m\u001b[0;34m)\u001b[0m\u001b[0;34m\u001b[0m\u001b[0;34m\u001b[0m\u001b[0m\n\u001b[1;32m     26\u001b[0m                 \u001b[0mresults\u001b[0m\u001b[0;34m.\u001b[0m\u001b[0mappend\u001b[0m\u001b[0;34m(\u001b[0m\u001b[0mres\u001b[0m\u001b[0;34m[\u001b[0m\u001b[0;34m'pattern'\u001b[0m\u001b[0;34m]\u001b[0m\u001b[0;34m)\u001b[0m\u001b[0;34m\u001b[0m\u001b[0;34m\u001b[0m\u001b[0m\n\u001b[0;32m---> 27\u001b[0;31m     \u001b[0minv_resp\u001b[0m\u001b[0;34m=\u001b[0m\u001b[0mnp\u001b[0m\u001b[0;34m.\u001b[0m\u001b[0mlinalg\u001b[0m\u001b[0;34m.\u001b[0m\u001b[0minv\u001b[0m\u001b[0;34m(\u001b[0m\u001b[0mresults\u001b[0m\u001b[0;34m)\u001b[0m\u001b[0;34m\u001b[0m\u001b[0;34m\u001b[0m\u001b[0m\n\u001b[0m\u001b[1;32m     28\u001b[0m     \u001b[0mnp\u001b[0m\u001b[0;34m.\u001b[0m\u001b[0msavetxt\u001b[0m\u001b[0;34m(\u001b[0m\u001b[0;34m'resp.csv'\u001b[0m\u001b[0;34m,\u001b[0m \u001b[0mnp\u001b[0m\u001b[0;34m.\u001b[0m\u001b[0marray\u001b[0m\u001b[0;34m(\u001b[0m\u001b[0mresults\u001b[0m\u001b[0;34m)\u001b[0m\u001b[0;34m,\u001b[0m \u001b[0mdelimiter\u001b[0m\u001b[0;34m=\u001b[0m\u001b[0;34m\",\"\u001b[0m\u001b[0;34m)\u001b[0m\u001b[0;34m\u001b[0m\u001b[0;34m\u001b[0m\u001b[0m\n\u001b[1;32m     29\u001b[0m     \u001b[0mnp\u001b[0m\u001b[0;34m.\u001b[0m\u001b[0msavetxt\u001b[0m\u001b[0;34m(\u001b[0m\u001b[0;34m'inv_resp.csv'\u001b[0m\u001b[0;34m,\u001b[0m \u001b[0mnp\u001b[0m\u001b[0;34m.\u001b[0m\u001b[0marray\u001b[0m\u001b[0;34m(\u001b[0m\u001b[0mresults\u001b[0m\u001b[0;34m)\u001b[0m\u001b[0;34m,\u001b[0m \u001b[0mdelimiter\u001b[0m\u001b[0;34m=\u001b[0m\u001b[0;34m\",\"\u001b[0m\u001b[0;34m)\u001b[0m\u001b[0;34m\u001b[0m\u001b[0;34m\u001b[0m\u001b[0m\n",
      "\u001b[0;32m<__array_function__ internals>\u001b[0m in \u001b[0;36minv\u001b[0;34m(*args, **kwargs)\u001b[0m\n",
      "\u001b[0;32m/usr/lib/python3/dist-packages/numpy/linalg/linalg.py\u001b[0m in \u001b[0;36minv\u001b[0;34m(a)\u001b[0m\n\u001b[1;32m    544\u001b[0m     \u001b[0ma\u001b[0m\u001b[0;34m,\u001b[0m \u001b[0mwrap\u001b[0m \u001b[0;34m=\u001b[0m \u001b[0m_makearray\u001b[0m\u001b[0;34m(\u001b[0m\u001b[0ma\u001b[0m\u001b[0;34m)\u001b[0m\u001b[0;34m\u001b[0m\u001b[0;34m\u001b[0m\u001b[0m\n\u001b[1;32m    545\u001b[0m     \u001b[0m_assertRankAtLeast2\u001b[0m\u001b[0;34m(\u001b[0m\u001b[0ma\u001b[0m\u001b[0;34m)\u001b[0m\u001b[0;34m\u001b[0m\u001b[0;34m\u001b[0m\u001b[0m\n\u001b[0;32m--> 546\u001b[0;31m     \u001b[0m_assertNdSquareness\u001b[0m\u001b[0;34m(\u001b[0m\u001b[0ma\u001b[0m\u001b[0;34m)\u001b[0m\u001b[0;34m\u001b[0m\u001b[0;34m\u001b[0m\u001b[0m\n\u001b[0m\u001b[1;32m    547\u001b[0m     \u001b[0mt\u001b[0m\u001b[0;34m,\u001b[0m \u001b[0mresult_t\u001b[0m \u001b[0;34m=\u001b[0m \u001b[0m_commonType\u001b[0m\u001b[0;34m(\u001b[0m\u001b[0ma\u001b[0m\u001b[0;34m)\u001b[0m\u001b[0;34m\u001b[0m\u001b[0;34m\u001b[0m\u001b[0m\n\u001b[1;32m    548\u001b[0m \u001b[0;34m\u001b[0m\u001b[0m\n",
      "\u001b[0;32m/usr/lib/python3/dist-packages/numpy/linalg/linalg.py\u001b[0m in \u001b[0;36m_assertNdSquareness\u001b[0;34m(*arrays)\u001b[0m\n\u001b[1;32m    211\u001b[0m         \u001b[0mm\u001b[0m\u001b[0;34m,\u001b[0m \u001b[0mn\u001b[0m \u001b[0;34m=\u001b[0m \u001b[0ma\u001b[0m\u001b[0;34m.\u001b[0m\u001b[0mshape\u001b[0m\u001b[0;34m[\u001b[0m\u001b[0;34m-\u001b[0m\u001b[0;36m2\u001b[0m\u001b[0;34m:\u001b[0m\u001b[0;34m]\u001b[0m\u001b[0;34m\u001b[0m\u001b[0;34m\u001b[0m\u001b[0m\n\u001b[1;32m    212\u001b[0m         \u001b[0;32mif\u001b[0m \u001b[0mm\u001b[0m \u001b[0;34m!=\u001b[0m \u001b[0mn\u001b[0m\u001b[0;34m:\u001b[0m\u001b[0;34m\u001b[0m\u001b[0;34m\u001b[0m\u001b[0m\n\u001b[0;32m--> 213\u001b[0;31m             \u001b[0;32mraise\u001b[0m \u001b[0mLinAlgError\u001b[0m\u001b[0;34m(\u001b[0m\u001b[0;34m'Last 2 dimensions of the array must be square'\u001b[0m\u001b[0;34m)\u001b[0m\u001b[0;34m\u001b[0m\u001b[0;34m\u001b[0m\u001b[0m\n\u001b[0m\u001b[1;32m    214\u001b[0m \u001b[0;34m\u001b[0m\u001b[0m\n\u001b[1;32m    215\u001b[0m \u001b[0;32mdef\u001b[0m \u001b[0m_assertFinite\u001b[0m\u001b[0;34m(\u001b[0m\u001b[0;34m*\u001b[0m\u001b[0marrays\u001b[0m\u001b[0;34m)\u001b[0m\u001b[0;34m:\u001b[0m\u001b[0;34m\u001b[0m\u001b[0;34m\u001b[0m\u001b[0m\n",
      "\u001b[0;31mLinAlgError\u001b[0m: Last 2 dimensions of the array must be square"
     ]
    }
   ],
   "source": [
    "import pickle\n",
    "steps=20\n",
    "#detectors=[i for i in range(0,32) for i not in [8,9]]\n",
    "detectors=[20,21]\n",
    "xx=np.linspace(400,800,steps)\n",
    "yy=np.linspace(400,800,steps)  \n",
    "\n",
    "def create_pattern_lut():\n",
    "    #res=20\n",
    "    results=[]\n",
    "    for det in detectors:\n",
    "        im=StixImager(det)\n",
    "        nd=len(detectors)\n",
    "\n",
    "        print('Detector : ', det)\n",
    "   \n",
    "\n",
    "        for i in range(steps):\n",
    "            for j in range(steps):\n",
    "                clear_output(wait=True)\n",
    "                x=xx[i]\n",
    "                y=yy[j]\n",
    "                print(f'completed: {100*(i*steps+j)/(steps*steps):.1f}%')\n",
    "          \n",
    "                res=im.create(x, y, 0,0,0,0, compute_pattern=True)\n",
    "                results.append(res['pattern'])\n",
    "    inv_resp=np.linalg.inv(results)\n",
    "    np.savetxt('resp.csv', np.array(results), delimiter=\",\")\n",
    "    np.savetxt('inv_resp.csv', np.array(results), delimiter=\",\")\n",
    "    return np.array(results)\n",
    "            \n",
    "\n",
    "\n",
    "create_pattern_lut()"
   ]
  },
  {
   "cell_type": "markdown",
   "metadata": {},
   "source": [
    "# Gaussian  shape source simulator"
   ]
  },
  {
   "cell_type": "code",
   "execution_count": 6,
   "metadata": {
    "scrolled": false
   },
   "outputs": [
    {
     "data": {
      "application/vnd.jupyter.widget-view+json": {
       "model_id": "b13fd1098c824427a5d5616ff82071d3",
       "version_major": 2,
       "version_minor": 0
      },
      "text/plain": [
       "interactive(children=(IntSlider(value=19, description='det_idx', max=32), IntSlider(value=0, description='sun_…"
      ]
     },
     "metadata": {},
     "output_type": "display_data"
    },
    {
     "data": {
      "text/plain": [
       "<function __main__.simulate_gaus(det_idx, sun_x, sun_y, x_radius=30, y_radius=30, sigma=10, rho=0, steps=40)>"
      ]
     },
     "execution_count": 6,
     "metadata": {},
     "output_type": "execute_result"
    }
   ],
   "source": [
    "\n",
    "\n",
    "\n",
    "plt.close('all')\n",
    "def simulate_gaus(det_idx, sun_x, sun_y, x_radius=30, y_radius=30,sigma=10,rho=0, steps=40\n",
    "            ):\n",
    " \n",
    "    \n",
    "    im=StixImager(det_idx)\n",
    "    \n",
    "    \n",
    "    xx,yy,zz=gaus2d(sun_x, sun_y, x_radius, y_radius, sigma, rho, steps)\n",
    "    x1d=xx.reshape(-1)\n",
    "    y1d=yy.reshape(-1)\n",
    "    z1d=zz.reshape(-1)\n",
    "    pattern=np.zeros(12)\n",
    "    \n",
    "    ns=x1d.size\n",
    "    for i in range(ns):\n",
    "        clear_output(wait=True)\n",
    "        print(f'completed: {100.*i/ns:.1f}%')\n",
    "        x=x1d[i]\n",
    "        y=y1d[i]\n",
    "        if z1d[i]>0:\n",
    "            #print(x,y)\n",
    "            res=im.create(x, y, 0,0,0,0, compute_pattern=True)\n",
    "            pattern+=res['pattern']*z1d[i]\n",
    "    res=im.create(sun_x, sun_y, 0,0,0,0, compute_pattern=True)\n",
    "    fig, ((ax, ax2),(ax3,ax4)) = plt.subplots(2, 2, figsize=(8, 8))\n",
    "    ax.pcolormesh(xx, yy, zz)\n",
    "    im.plot(fig, ax2, ax3)\n",
    "    pattern=pattern/np.sum(z1d)\n",
    "    ax3.plot(range(12),pattern, label='gaus')\n",
    "    ax3.set_title(f'sun_x={sun_x} sun_y={sun_y} x_r={x_radius}, y_r={y_radius}, sigma={sigma} ')\n",
    "    ax3.set_xlabel('Pixel')\n",
    "    ax3.set_ylabel('Open area (mm)')\n",
    "    ax3.legend()\n",
    "    ax4.plot(range(12),pattern, label='gaus')\n",
    "    ax4.set_title(f'sun_x={sun_x} sun_y={sun_y} x_r={x_radius}, y_r={y_radius}, sigma={sigma} ')\n",
    "    ax4.set_xlabel('Pixel')\n",
    "    ax4.set_ylabel('Open area (mm)')\n",
    "    ax4.legend()\n",
    "    plt.savefig(f'sun_x_{sun_x}_sun_y_{sun_y}_x_r_{x_radius}_y_r_{y_radius}_sigma_{sigma}.svg')\n",
    "    plt.show()\n",
    "\n",
    "\n",
    "maxPhase= 0.457628#gd['26']['FrontPitch']\n",
    "interact_manual(simulate_gaus, det_idx=widgets.IntSlider(min=0,max=32,value=19,step=1),\n",
    "         sun_x=widgets.IntSlider(min=-3600,max=3600,value=0, step=1),\n",
    "         sun_y=widgets.IntSlider(min=-3600,max=3600,value=0,step=1),\n",
    "         x_radius=widgets.IntSlider(min=0,max=340,value=30, step=1),\n",
    "         y_radius=widgets.IntSlider(min=0,max=340,value=30,step=1),\n",
    "            sigma=widgets.IntSlider(min=0,max=200,value=10,step=1),\n",
    "                 steps=widgets.IntSlider(min=10,max=100,value=20,step=1)\n",
    "        \n",
    "         \n",
    "        )\n"
   ]
  },
  {
   "cell_type": "code",
   "execution_count": null,
   "metadata": {},
   "outputs": [],
   "source": []
  },
  {
   "cell_type": "code",
   "execution_count": null,
   "metadata": {},
   "outputs": [],
   "source": []
  }
 ],
 "metadata": {
  "kernelspec": {
   "display_name": "Python 3",
   "language": "python",
   "name": "python3"
  },
  "language_info": {
   "codemirror_mode": {
    "name": "ipython",
    "version": 3
   },
   "file_extension": ".py",
   "mimetype": "text/x-python",
   "name": "python",
   "nbconvert_exporter": "python",
   "pygments_lexer": "ipython3",
   "version": "3.9.7"
  }
 },
 "nbformat": 4,
 "nbformat_minor": 4
}
