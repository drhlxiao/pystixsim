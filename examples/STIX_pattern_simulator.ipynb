{
 "cells": [
  {
   "cell_type": "code",
   "execution_count": 1,
   "metadata": {},
   "outputs": [],
   "source": [
    "#STIX simulator"
   ]
  },
  {
   "cell_type": "code",
   "execution_count": 8,
   "metadata": {},
   "outputs": [
    {
     "name": "stdout",
     "output_type": "stream",
     "text": [
      "[9.282 9.282 9.282 9.282 0.903 0.903 0.903 0.903 9.282 9.282 9.282 9.282]\n"
     ]
    }
   ],
   "source": [
    "import sys\n",
    "sys.path.append('../')\n",
    "import glob\n",
    "import numpy as np\n",
    "import math\n",
    "from core.grid_parameters import nominal as ngd\n",
    "\n",
    "\n",
    "import matplotlib.pyplot as plt\n",
    "\n",
    "\n",
    "from ipywidgets import interact, interact_manual, widgets\n",
    "\n",
    "\n",
    "from IPython.display import clear_output\n",
    "\n",
    "from core.stix_imager import StixImager\n",
    "from core import stix_grid as sgd\n",
    "from core import stix_cfl as cfl\n",
    "from core import stix_detector as sdt\n",
    "print(sdt.StixDetector.pixel_areas)\n",
    "\n",
    "%matplotlib notebook"
   ]
  },
  {
   "cell_type": "code",
   "execution_count": 9,
   "metadata": {},
   "outputs": [
    {
     "data": {
      "application/javascript": [
       "IPython.OutputArea.prototype._should_scroll = function(lines) {\n",
       "    return false;\n",
       "}\n"
      ],
      "text/plain": [
       "<IPython.core.display.Javascript object>"
      ]
     },
     "metadata": {},
     "output_type": "display_data"
    }
   ],
   "source": [
    "%%javascript\n",
    "IPython.OutputArea.prototype._should_scroll = function(lines) {\n",
    "    return false;\n",
    "}"
   ]
  },
  {
   "cell_type": "code",
   "execution_count": 10,
   "metadata": {},
   "outputs": [],
   "source": [
    "def sim_cfl(sun_x,sun_y):\n",
    "    cf=cfl.CFL()\n",
    "    cf.project(sun_x,sun_y)\n",
    "    cf.plot()\n",
    "\n",
    "def sim(det_idx,\n",
    "               sun_x=0,\n",
    "               sun_y=0,\n",
    "               user_phase_front=0,\n",
    "               user_rot_deg_front=0,\n",
    "               user_phase_rear=0,\n",
    "               user_rot_deg_rear=0,\n",
    "               compute_pattern=True):\n",
    "    if det_idx==8:\n",
    "        sim_cfl(sun_x,sun_y)\n",
    "        return\n",
    "    im=StixImager(det_idx)\n",
    "    im.create( sun_x,\n",
    "               sun_y,\n",
    "               user_phase_front,\n",
    "               user_rot_deg_front,\n",
    "               user_phase_rear,\n",
    "               user_rot_deg_rear)\n",
    "    im.plot()"
   ]
  },
  {
   "cell_type": "code",
   "execution_count": 11,
   "metadata": {},
   "outputs": [
    {
     "data": {
      "application/vnd.jupyter.widget-view+json": {
       "model_id": "6cd1010708714855abbf9b19201bf212",
       "version_major": 2,
       "version_minor": 0
      },
      "text/plain": [
       "interactive(children=(IntSlider(value=19, description='det_idx', max=32), IntSlider(value=0, description='sun_…"
      ]
     },
     "metadata": {},
     "output_type": "display_data"
    },
    {
     "data": {
      "text/plain": [
       "<function __main__.sim(det_idx, sun_x=0, sun_y=0, user_phase_front=0, user_rot_deg_front=0, user_phase_rear=0, user_rot_deg_rear=0, compute_pattern=True)>"
      ]
     },
     "execution_count": 11,
     "metadata": {},
     "output_type": "execute_result"
    }
   ],
   "source": [
    "\n",
    "\n",
    "\n",
    "plt.close('all')\n",
    "maxPhase= 0.457628#gd['26']['FrontPitch']\n",
    "interact_manual(sim, det_idx=widgets.IntSlider(min=0,max=32,value=19,step=1),\n",
    "         sun_x=widgets.IntSlider(min=-3600,max=3600,value=0, step=1),\n",
    "         sun_y=widgets.IntSlider(min=-3600,max=3600,value=0,step=1),\n",
    "         user_phase_front=widgets.IntSlider(min=-1,max=1,value=0, step=0.0001),\n",
    "        user_phase_rear=widgets.IntSlider(min=-1,max=1,value=0, step=0.0001),\n",
    "                \n",
    "         user_rot_deg_front=widgets.IntSlider(min=-2,max=2,value=0,step=0.001),\n",
    "        user_rot_deg_rear=widgets.IntSlider(min=-2,max=2,value=0,step=0.001),\n",
    "        \n",
    "         \n",
    "        )"
   ]
  },
  {
   "cell_type": "code",
   "execution_count": 12,
   "metadata": {},
   "outputs": [],
   "source": [
    "def sim_cfl(sun_x,sun_y):\n",
    "    cf=cfl.CFL()\n",
    "    cf.project(sun_x,sun_y)\n",
    "    cf.plot()\n"
   ]
  },
  {
   "cell_type": "code",
   "execution_count": 13,
   "metadata": {},
   "outputs": [
    {
     "data": {
      "application/vnd.jupyter.widget-view+json": {
       "model_id": "06223d847cd2473eb9d6b8849bdcc584",
       "version_major": 2,
       "version_minor": 0
      },
      "text/plain": [
       "interactive(children=(IntSlider(value=0, description='sun_x', max=3600, min=-3600), IntSlider(value=0, descrip…"
      ]
     },
     "metadata": {},
     "output_type": "display_data"
    },
    {
     "data": {
      "text/plain": [
       "<function __main__.sim_cfl(sun_x, sun_y)>"
      ]
     },
     "execution_count": 13,
     "metadata": {},
     "output_type": "execute_result"
    }
   ],
   "source": [
    "plt.close('all')\n",
    "maxPhase= 0.457628#gd['26']['FrontPitch']\n",
    "interact_manual(sim_cfl, \n",
    "         sun_x=widgets.IntSlider(min=-3600,max=3600,value=0, step=1),\n",
    "         sun_y=widgets.IntSlider(min=-3600,max=3600,value=0,step=1)\n",
    "      \n",
    "        \n",
    "         \n",
    "        )"
   ]
  },
  {
   "cell_type": "code",
   "execution_count": 14,
   "metadata": {},
   "outputs": [],
   "source": [
    "s=np.zeros((200,200))"
   ]
  },
  {
   "cell_type": "code",
   "execution_count": null,
   "metadata": {},
   "outputs": [],
   "source": []
  },
  {
   "cell_type": "code",
   "execution_count": null,
   "metadata": {},
   "outputs": [],
   "source": []
  }
 ],
 "metadata": {
  "kernelspec": {
   "display_name": "Python 3 (ipykernel)",
   "language": "python",
   "name": "python3"
  },
  "language_info": {
   "codemirror_mode": {
    "name": "ipython",
    "version": 3
   },
   "file_extension": ".py",
   "mimetype": "text/x-python",
   "name": "python",
   "nbconvert_exporter": "python",
   "pygments_lexer": "ipython3",
   "version": "3.10.12"
  }
 },
 "nbformat": 4,
 "nbformat_minor": 4
}
