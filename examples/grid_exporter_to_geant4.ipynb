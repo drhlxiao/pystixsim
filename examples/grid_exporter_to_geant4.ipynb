{
 "cells": [
  {
   "cell_type": "code",
   "execution_count": 1,
   "metadata": {},
   "outputs": [],
   "source": [
    "#STIX simulator"
   ]
  },
  {
   "cell_type": "code",
   "execution_count": 1,
   "metadata": {},
   "outputs": [
    {
     "name": "stdout",
     "output_type": "stream",
     "text": [
      "[9.282 9.282 9.282 9.282 0.903 0.903 0.903 0.903 9.282 9.282 9.282 9.282]\n"
     ]
    }
   ],
   "source": [
    "import sys\n",
    "sys.path.append('.')\n",
    "import glob\n",
    "import numpy as np\n",
    "import math\n",
    "from core.grid_parameters import nominal as ngd\n",
    "\n",
    "\n",
    "import matplotlib.pyplot as plt\n",
    "\n",
    "\n",
    "from ipywidgets import interact, interact_manual, widgets\n",
    "\n",
    "\n",
    "from IPython.display import clear_output\n",
    "\n",
    "from core.stix_imager import StixImager\n",
    "from core import stix_grid as sgd\n",
    "from core import stix_cfl as cfl\n",
    "from core import stix_detector as sdt\n",
    "print(sdt.StixDetector.pixel_areas)\n",
    "\n",
    "%matplotlib notebook"
   ]
  },
  {
   "cell_type": "code",
   "execution_count": 2,
   "metadata": {},
   "outputs": [
    {
     "data": {
      "application/javascript": [
       "IPython.OutputArea.prototype._should_scroll = function(lines) {\n",
       "    return false;\n",
       "}\n"
      ],
      "text/plain": [
       "<IPython.core.display.Javascript object>"
      ]
     },
     "metadata": {},
     "output_type": "display_data"
    }
   ],
   "source": [
    "%%javascript\n",
    "IPython.OutputArea.prototype._should_scroll = function(lines) {\n",
    "    return false;\n",
    "}"
   ]
  },
  {
   "cell_type": "code",
   "execution_count": 3,
   "metadata": {},
   "outputs": [],
   "source": [
    "detector = sdt.StixDetector\n",
    "det_pixel_polygons = detector.get_pixel_polygons()       \n"
   ]
  },
  {
   "cell_type": "code",
   "execution_count": null,
   "metadata": {},
   "outputs": [],
   "source": [
    "\n"
   ]
  },
  {
   "cell_type": "code",
   "execution_count": 4,
   "metadata": {},
   "outputs": [],
   "source": [
    "def sim_cfl(sun_x,sun_y):\n",
    "    cf=cfl.CFL()\n",
    "    cf.project(sun_x,sun_y)\n",
    "    cf.plot()\n"
   ]
  },
  {
   "cell_type": "code",
   "execution_count": 5,
   "metadata": {},
   "outputs": [
    {
     "data": {
      "application/vnd.jupyter.widget-view+json": {
       "model_id": "14cd1059e7f44666a2ec210270e2d613",
       "version_major": 2,
       "version_minor": 0
      },
      "text/plain": [
       "interactive(children=(IntSlider(value=0, description='sun_x', max=3600, min=-3600), IntSlider(value=0, descrip…"
      ]
     },
     "metadata": {},
     "output_type": "display_data"
    },
    {
     "data": {
      "text/plain": [
       "<function __main__.sim_cfl(sun_x, sun_y)>"
      ]
     },
     "execution_count": 5,
     "metadata": {},
     "output_type": "execute_result"
    }
   ],
   "source": [
    "plt.close('all')\n",
    "maxPhase= 0.457628#gd['26']['FrontPitch']\n",
    "interact_manual(sim_cfl, \n",
    "         sun_x=widgets.IntSlider(min=-3600,max=3600,value=0, step=1),\n",
    "         sun_y=widgets.IntSlider(min=-3600,max=3600,value=0,step=1)\n",
    "      \n",
    "        \n",
    "         \n",
    "        )"
   ]
  },
  {
   "cell_type": "code",
   "execution_count": null,
   "metadata": {},
   "outputs": [],
   "source": [
    "grid = sgd.StixGrid()\n",
    "grid.set_parameter_type('real')\n",
    "det=19\n",
    "plt.figure()\n",
    "ax=plt.gca()\n",
    "grid.create(det, which_grid='rear', user_phase=0, user_rot_deg=0)\n",
    "\n",
    "grid.project()\n",
    "grid.plot(ax)\n",
    "plt.show()\n",
    "strips=grid.strip_polygons\n",
    "strips.shape\n"
   ]
  },
  {
   "cell_type": "code",
   "execution_count": null,
   "metadata": {},
   "outputs": [],
   "source": [
    "im = StixImager(21)\n",
    "im.create()\n",
    "im.plot()\n",
    "plt.show()"
   ]
  },
  {
   "cell_type": "code",
   "execution_count": null,
   "metadata": {},
   "outputs": [],
   "source": [
    "from ROOT import TFile, TTree\n",
    "from array import array"
   ]
  },
  {
   "cell_type": "code",
   "execution_count": null,
   "metadata": {},
   "outputs": [],
   "source": [
    "\n",
    "\n",
    "\n",
    "f = TFile('stix_grid_parameters.root','recreate')\n",
    "t = TTree('grids','grids')\n",
    "\n",
    "is_front = array('i',[0])\n",
    "det_idx = array('i',[0])\n",
    "is_nominal = array('i',[0])\n",
    "i_strip = array('i',[0])\n",
    "polygon_x=array('f', [0]*5)\n",
    "polygon_y=array('f', [0]*5)\n",
    "t.Branch('is_front',is_front,'is_front/I')\n",
    "t.Branch('det_idx',det_idx,'det_idx/I')\n",
    "t.Branch('i_strip',i_strip,'i_strip/I')\n",
    "t.Branch('polygon_x', polygon_x, \"polygon_x[5]/F\")\n",
    "t.Branch('polygon_y', polygon_y, \"polygon_y[5]/F\")\n",
    "t.Branch('is_nominal_parameters',is_nominal,'is_nominal_parameters/I')\n",
    "fig,axs=plt.subplots(8,8)\n",
    "ifig=0\n",
    "for which in ['front','rear']:\n",
    "    for i in range(32):\n",
    "        if i==8 or i==9:\n",
    "            continue\n",
    "        grid = sgd.StixGrid()\n",
    "   \n",
    "        \n",
    "        \n",
    "        row= ifig%8\n",
    "        col=int(ifig/8)\n",
    "        ifig+=1\n",
    "        try:\n",
    "            grid_type='real'\n",
    "            grid.set_parameter_type(grid_type)\n",
    "            grid.create(i, which_grid=which, user_phase=0, user_rot_deg=0)\n",
    "            \n",
    "            \n",
    "\n",
    "        except Exception as e:\n",
    "            #raise\n",
    "            grid_type='nominal'\n",
    "            grid.set_parameter_type('nominal')\n",
    "            grid.create(i, which_grid=which, user_phase=0, user_rot_deg=0)\n",
    "            print(e)\n",
    "            #continue\n",
    "        #plt.show()\n",
    "        strips=grid.strip_polygons\n",
    "        is_nominal[0]=1 if grid_type == 'nominal' else 0\n",
    "        det_idx[0]=i\n",
    "        is_front[0]=1 if which=='front' else 0\n",
    "        \n",
    "        for i, strip in enumerate(strips):\n",
    "            i_strip[0]=i\n",
    "            for ip, point in enumerate(strip):\n",
    "                polygon_x[ip]=point[0]\n",
    "                polygon_y[ip]=point[1]\n",
    "                \n",
    "            #print(strip)\n",
    "            \n",
    "            t.Fill()\n",
    "\n",
    "\n",
    "t.Write()\n",
    "f.Close()\n",
    "        "
   ]
  },
  {
   "cell_type": "code",
   "execution_count": null,
   "metadata": {},
   "outputs": [],
   "source": [
    "#then copy the file to g4STIX/grid_data"
   ]
  },
  {
   "cell_type": "code",
   "execution_count": null,
   "metadata": {},
   "outputs": [],
   "source": []
  },
  {
   "cell_type": "code",
   "execution_count": null,
   "metadata": {},
   "outputs": [],
   "source": []
  },
  {
   "cell_type": "code",
   "execution_count": null,
   "metadata": {},
   "outputs": [],
   "source": []
  }
 ],
 "metadata": {
  "kernelspec": {
   "display_name": "Python 3 (ipykernel)",
   "language": "python",
   "name": "python3"
  },
  "language_info": {
   "codemirror_mode": {
    "name": "ipython",
    "version": 3
   },
   "file_extension": ".py",
   "mimetype": "text/x-python",
   "name": "python",
   "nbconvert_exporter": "python",
   "pygments_lexer": "ipython3",
   "version": "3.10.4"
  }
 },
 "nbformat": 4,
 "nbformat_minor": 4
}
