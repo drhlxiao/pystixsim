{
 "cells": [
  {
   "cell_type": "code",
   "execution_count": 5,
   "id": "composite-assumption",
   "metadata": {},
   "outputs": [],
   "source": [
    "import numpy as np\n",
    "x=np.arange(90).reshape(30,-1)"
   ]
  },
  {
   "cell_type": "code",
   "execution_count": 11,
   "id": "external-museum",
   "metadata": {},
   "outputs": [
    {
     "data": {
      "text/plain": [
       "array([[ 0,  1,  2],\n",
       "       [ 3,  4,  5],\n",
       "       [ 6,  7,  8],\n",
       "       [ 9, 10, 11],\n",
       "       [12, 13, 14],\n",
       "       [15, 16, 17],\n",
       "       [18, 19, 20],\n",
       "       [21, 22, 23],\n",
       "       [24, 25, 26],\n",
       "       [27, 28, 29],\n",
       "       [30, 31, 32],\n",
       "       [33, 34, 35],\n",
       "       [36, 37, 38],\n",
       "       [39, 40, 41],\n",
       "       [42, 43, 44],\n",
       "       [45, 46, 47],\n",
       "       [48, 49, 50],\n",
       "       [51, 52, 53],\n",
       "       [54, 55, 56],\n",
       "       [57, 58, 59],\n",
       "       [60, 61, 62],\n",
       "       [63, 64, 65],\n",
       "       [66, 67, 68],\n",
       "       [69, 70, 71],\n",
       "       [72, 73, 74],\n",
       "       [75, 76, 77],\n",
       "       [78, 79, 80],\n",
       "       [81, 82, 83],\n",
       "       [84, 85, 86],\n",
       "       [87, 88, 89]])"
      ]
     },
     "execution_count": 11,
     "metadata": {},
     "output_type": "execute_result"
    }
   ],
   "source": [
    "x"
   ]
  },
  {
   "cell_type": "code",
   "execution_count": 17,
   "id": "cheap-butler",
   "metadata": {},
   "outputs": [
    {
     "data": {
      "text/plain": [
       "array([   7.05,    0.  ,    7.05,   28.2 ,   63.45,  112.8 ,  176.25,\n",
       "        253.8 ,  345.45,  451.2 ,  571.05,  705.  ,  853.05, 1015.2 ,\n",
       "       1191.45, 1381.8 , 1586.25, 1804.8 , 2037.45, 2284.2 , 2545.05,\n",
       "       2820.  , 3109.05, 3412.2 , 3729.45, 4060.8 , 4406.25, 4765.8 ,\n",
       "       5139.45, 5527.2 ])"
      ]
     },
     "execution_count": 17,
     "metadata": {},
     "output_type": "execute_result"
    }
   ],
   "source": [
    "def fun(y_sim, y_obs, y_err):\n",
    "    return np.sum(np.divide((y_obs - y_sim)**2, y_err**2, where=y_err!= 0))\n",
    "\n",
    "y_obs=np.array([3,4,5])\n",
    "y_err=np.sqrt(y_obs)\n",
    "np.apply_along_axis(fun,1,x, y_obs,y_err)"
   ]
  },
  {
   "cell_type": "code",
   "execution_count": 19,
   "id": "alternate-mounting",
   "metadata": {},
   "outputs": [
    {
     "data": {
      "text/plain": [
       "array([   7.05,    0.  ,    7.05,   28.2 ,   63.45,  112.8 ,  176.25,\n",
       "        253.8 ,  345.45,  451.2 ,  571.05,  705.  ,  853.05, 1015.2 ,\n",
       "       1191.45, 1381.8 , 1586.25, 1804.8 , 2037.45, 2284.2 , 2545.05,\n",
       "       2820.  , 3109.05, 3412.2 , 3729.45, 4060.8 , 4406.25, 4765.8 ,\n",
       "       5139.45, 5527.2 ])"
      ]
     },
     "execution_count": 19,
     "metadata": {},
     "output_type": "execute_result"
    }
   ],
   "source": [
    " np.sum(np.divide((y_obs - x)**2, y_err**2, where=y_err!= 0), axis=1)"
   ]
  },
  {
   "cell_type": "code",
   "execution_count": null,
   "id": "peaceful-prospect",
   "metadata": {},
   "outputs": [],
   "source": []
  }
 ],
 "metadata": {
  "kernelspec": {
   "display_name": "Python 3",
   "language": "python",
   "name": "python3"
  },
  "language_info": {
   "codemirror_mode": {
    "name": "ipython",
    "version": 3
   },
   "file_extension": ".py",
   "mimetype": "text/x-python",
   "name": "python",
   "nbconvert_exporter": "python",
   "pygments_lexer": "ipython3",
   "version": "3.9.7"
  }
 },
 "nbformat": 4,
 "nbformat_minor": 5
}
